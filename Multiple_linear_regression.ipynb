{
 "cells": [
  {
   "cell_type": "code",
   "execution_count": 1,
   "metadata": {},
   "outputs": [],
   "source": [
    "import numpy as np \n",
    "import matplotlib.pyplot as plt \n",
    "from sklearn.linear_model import LinearRegression\n"
   ]
  },
  {
   "cell_type": "code",
   "execution_count": 21,
   "metadata": {},
   "outputs": [],
   "source": [
    "x=[[0,1],[4,2],[15,2],[22,12],[34,16],[60,32],[80,54],[98,58]]\n",
    "y=[2,6,12,24,38,46,58,76]\n",
    "x,y=np.array(x),np.array(y)"
   ]
  },
  {
   "cell_type": "code",
   "execution_count": 22,
   "metadata": {},
   "outputs": [],
   "source": [
    "model=LinearRegression().fit(x,y)\n"
   ]
  },
  {
   "cell_type": "code",
   "execution_count": 23,
   "metadata": {
    "tags": []
   },
   "outputs": [
    {
     "output_type": "stream",
     "name": "stdout",
     "text": "0.9757334210681926\nintercept 3.660920576706232\nslope [ 0.96935604 -0.39941132]\n"
    }
   ],
   "source": [
    "rscores=model.score(x,y)\n",
    "print(rscores)\n",
    "print(\"intercept\",model.intercept_) #bias \n",
    "print(\"slope\",model.coef_)#b1 and b2 in y=bias+b1x1+b2x2"
   ]
  },
  {
   "cell_type": "code",
   "execution_count": 24,
   "metadata": {
    "tags": []
   },
   "outputs": [
    {
     "output_type": "stream",
     "name": "stdout",
     "text": "prediction\n[ 3.26150926  6.73952208 17.40243848 20.19381751 30.22844466 49.04112045\n 59.6411921  75.49195546]\n"
    }
   ],
   "source": [
    "y_pred=model.predict(x)\n",
    "print(\"prediction\",y_pred,sep=\"\\n\")"
   ]
  },
  {
   "cell_type": "code",
   "execution_count": 25,
   "metadata": {
    "tags": []
   },
   "outputs": [
    {
     "output_type": "stream",
     "name": "stdout",
     "text": "[3.26150926 4.40139868 5.54128811 6.68117754 7.82106697]\n"
    }
   ],
   "source": [
    "xnew=np.arange(10).reshape((-1,2)) #prediction on unseen data\n",
    "y_new=model.predict(xnew)\n",
    "print(y_new) "
   ]
  }
 ],
 "metadata": {
  "language_info": {
   "codemirror_mode": {
    "name": "ipython",
    "version": 3
   },
   "file_extension": ".py",
   "mimetype": "text/x-python",
   "name": "python",
   "nbconvert_exporter": "python",
   "pygments_lexer": "ipython3",
   "version": 3
  },
  "orig_nbformat": 2,
  "kernelspec": {
   "name": "python_defaultSpec_1599192770264",
   "display_name": "Python 3.6.9 64-bit"
  }
 },
 "nbformat": 4,
 "nbformat_minor": 2
}
{
 "cells": [
  {
   "cell_type": "code",
   "execution_count": 4,
   "metadata": {},
   "outputs": [],
   "source": [
    "import numpy as np\n",
    "import matplotlib.pyplot as plt"
   ]
  },
  {
   "cell_type": "code",
   "execution_count": 5,
   "metadata": {},
   "outputs": [
    {
     "output_type": "execute_result",
     "data": {
      "text/plain": "3"
     },
     "metadata": {},
     "execution_count": 5
    }
   ],
   "source": [
    "x=np.array([1,2,3])\n",
    "x.size #array size"
   ]
  },
  {
   "cell_type": "code",
   "execution_count": 6,
   "metadata": {},
   "outputs": [
    {
     "output_type": "execute_result",
     "data": {
      "text/plain": "(2, 3)"
     },
     "metadata": {},
     "execution_count": 6
    }
   ],
   "source": [
    "arr=np.array([[1,2,3],[4,5,6]])\n",
    "arr.shape #gives array shape"
   ]
  },
  {
   "cell_type": "code",
   "execution_count": 10,
   "metadata": {
    "tags": []
   },
   "outputs": [
    {
     "output_type": "stream",
     "name": "stdout",
     "text": "2\n48\n"
    }
   ],
   "source": [
    "a=np.array([1,2,3],[4,7,8]])\n",
    "print(a.ndim) #dimension of the array\n",
    "print(a.nbytes) #byte size of each element"
   ]
  },
  {
   "cell_type": "code",
   "execution_count": 15,
   "metadata": {
    "tags": []
   },
   "outputs": [
    {
     "output_type": "stream",
     "name": "stdout",
     "text": "int64\n"
    }
   ],
   "source": [
    "arr=np.array([[1,3,45],[3,7,1]])\n",
    "print(arr.dtype) #data types of elements"
   ]
  },
  {
   "cell_type": "code",
   "execution_count": 16,
   "metadata": {
    "tags": []
   },
   "outputs": [
    {
     "output_type": "stream",
     "name": "stdout",
     "text": "[b'1' b'2' b'4' b'5']\n|S1\n"
    }
   ],
   "source": [
    "arr=np.array([1,2,4,5],dtype='S')\n",
    "print(arr)\n",
    "print(arr.dtype)"
   ]
  },
  {
   "cell_type": "code",
   "execution_count": 17,
   "metadata": {
    "tags": []
   },
   "outputs": [
    {
     "output_type": "stream",
     "name": "stdout",
     "text": "[1 2 4 5]\nint32\n"
    }
   ],
   "source": [
    "arr=np.array([1,2,4,5],dtype='i4')\n",
    "print(arr)\n",
    "print(arr.dtype)"
   ]
  },
  {
   "cell_type": "code",
   "execution_count": 25,
   "metadata": {
    "tags": []
   },
   "outputs": [
    {
     "output_type": "stream",
     "name": "stdout",
     "text": "b= [73, 24, 8]\nc= [24, 8, 35]\n"
    }
   ],
   "source": [
    "a=[34,73,24,8,35]\n",
    "b=a[1:4] #slicing\n",
    "c=a[2:5]\n",
    "print(\"b=\",b)\n",
    "print(\"c=\",c)"
   ]
  },
  {
   "cell_type": "code",
   "execution_count": 27,
   "metadata": {
    "tags": []
   },
   "outputs": [
    {
     "output_type": "stream",
     "name": "stdout",
     "text": "24.983744715314394\n"
    }
   ],
   "source": [
    "arr=[34,67,25,87]\n",
    "print(np.std(arr)) #standard deviation"
   ]
  },
  {
   "cell_type": "code",
   "execution_count": 28,
   "metadata": {
    "tags": []
   },
   "outputs": [
    {
     "output_type": "stream",
     "name": "stdout",
     "text": "[0.         0.30103    0.47712125]\n"
    }
   ],
   "source": [
    "arr=np.array([1,2,3])\n",
    "print(np.log10(arr)) #returns the logarithm value "
   ]
  },
  {
   "cell_type": "code",
   "execution_count": 30,
   "metadata": {},
   "outputs": [
    {
     "output_type": "execute_result",
     "data": {
      "text/plain": "25.0"
     },
     "metadata": {},
     "execution_count": 30
    }
   ],
   "source": [
    "np.sqrt(625) #square root value"
   ]
  },
  {
   "cell_type": "code",
   "execution_count": 32,
   "metadata": {
    "tags": []
   },
   "outputs": [
    {
     "output_type": "stream",
     "name": "stdout",
     "text": "addition= [[ 35  85  74]\n [290 124  38]]\nsubtraction= [[ -33  -81  -62]\n [-222   32  -32]]\nmultiplication= [[  34  166  408]\n [8704 3588  105]]\ndivision= [[0.02941176 0.02409639 0.08823529]\n [0.1328125  1.69565217 0.08571429]]\n"
    }
   ],
   "source": [
    "x=np.array([[1,2,6],[34,78,3]])\n",
    "y=np.array([[34,83,68],[256,46,35]])\n",
    "print(\"addition=\",np.add(x,y))\n",
    "print(\"subtraction=\",np.subtract(x,y))\n",
    "print(\"multiplication=\",np.multiply(x,y))\n",
    "print(\"division=\",np.divide(x,y))"
   ]
  },
  {
   "cell_type": "code",
   "execution_count": 38,
   "metadata": {
    "tags": []
   },
   "outputs": [
    {
     "output_type": "stream",
     "name": "stdout",
     "text": "zeros 3x3= [[0. 0. 0.]\n [0. 0. 0.]\n [0. 0. 0.]]\nones 4x4= [[1. 1. 1. 1.]\n [1. 1. 1. 1.]\n [1. 1. 1. 1.]\n [1. 1. 1. 1.]]\n"
    }
   ],
   "source": [
    "arr1=np.zeros((3,3)) #creates a matrix full of zeros\n",
    "arr2=np.ones((4,4))#creates a matrix full of ones\n",
    "print(\"zeros 3x3=\",arr1)\n",
    "print(\"ones 4x4=\",arr2)"
   ]
  },
  {
   "cell_type": "code",
   "execution_count": 40,
   "metadata": {
    "tags": []
   },
   "outputs": [
    {
     "output_type": "stream",
     "name": "stdout",
     "text": "[2 5 8 3 5 7]\n"
    }
   ],
   "source": [
    "a1=np.array([2,5,8])\n",
    "a2=np.array([3,5,7])\n",
    "a3=np.concatenate((a1,a2)) #join arrays, default axis=0\n",
    "print(a3)"
   ]
  },
  {
   "cell_type": "code",
   "execution_count": 41,
   "metadata": {
    "tags": []
   },
   "outputs": [
    {
     "output_type": "stream",
     "name": "stdout",
     "text": "[[ 2  5  8  3  5  7]\n [33  5  7 45 73  7]]\n"
    }
   ],
   "source": [
    "a1=np.array([[2,5,8],[33,5,7]])\n",
    "a2=np.array([[3,5,7],[45,73,7]])\n",
    "a3=np.concatenate((a1,a2),axis=1) #join arrays,axis=1\n",
    "print(a3)"
   ]
  },
  {
   "cell_type": "code",
   "execution_count": 43,
   "metadata": {
    "tags": []
   },
   "outputs": [
    {
     "output_type": "stream",
     "name": "stdout",
     "text": "[[[ 2  5  8]\n  [ 3  5  7]]\n\n [[33  5  7]\n  [45 73  7]]]\n"
    }
   ],
   "source": [
    "a1=np.array([[2,5,8],[33,5,7]])\n",
    "a2=np.array([[3,5,7],[45,73,7]])\n",
    "a3=np.stack((a1,a2),axis=1) #similar to concatenate but is done along a new axis and stack one over the other.\n",
    "print(a3)"
   ]
  }
 ],
 "metadata": {
  "language_info": {
   "codemirror_mode": {
    "name": "ipython",
    "version": 3
   },
   "file_extension": ".py",
   "mimetype": "text/x-python",
   "name": "python",
   "nbconvert_exporter": "python",
   "pygments_lexer": "ipython3",
   "version": 3
  },
  "orig_nbformat": 2,
  "kernelspec": {
   "name": "python_defaultSpec_1599021197392",
   "display_name": "Python 3.6.9 64-bit"
  }
 },
 "nbformat": 4,
 "nbformat_minor": 2
}